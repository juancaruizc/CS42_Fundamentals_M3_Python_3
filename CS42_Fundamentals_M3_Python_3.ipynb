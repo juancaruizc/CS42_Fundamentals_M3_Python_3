{
  "nbformat": 4,
  "nbformat_minor": 0,
  "metadata": {
    "colab": {
      "name": "CS42: Fundamentals: M3: Python 3",
      "provenance": [],
      "include_colab_link": true
    },
    "kernelspec": {
      "name": "python3",
      "display_name": "Python 3"
    },
    "language_info": {
      "name": "python"
    }
  },
  "cells": [
    {
      "cell_type": "markdown",
      "metadata": {
        "id": "view-in-github",
        "colab_type": "text"
      },
      "source": [
        "<a href=\"https://colab.research.google.com/github/juancaruizc/CS42_Fundamentals_M3_Python_3/blob/main/CS42_Fundamentals_M3_Python_3.ipynb\" target=\"_parent\"><img src=\"https://colab.research.google.com/assets/colab-badge.svg\" alt=\"Open In Colab\"/></a>"
      ]
    },
    {
      "cell_type": "markdown",
      "metadata": {
        "id": "BTSsWLdvC4Ku"
      },
      "source": [
        "# Python III\n",
        "\n",
        "* Dictionaries\n",
        "* Mutability and Immutability\n",
        "* Big-O notation, time and space complexity intro\n",
        "\n",
        "**Attendance: 3860**"
      ]
    },
    {
      "cell_type": "markdown",
      "metadata": {
        "id": "Y9dSEWP5GxrH"
      },
      "source": [
        "# Dictionaries\n",
        "\n",
        "This is a type of _key/value store_.\n",
        "\n",
        "You address data by the \"key\", usually some string.\n",
        "\n",
        "This declares a dictionary in Python:\n",
        "```\n",
        "o = {\n",
        "    \"beej\": 37\n",
        "}\n",
        "```\n",
        "\n",
        "You can make an empty dictionary:\n",
        "\n",
        "```\n",
        "d = {}\n",
        "```\n",
        "\n",
        "And add items to it:\n",
        "\n",
        "```\n",
        "d[\"foo\"] = 3.14\n",
        "```\n",
        "\n",
        "And get values like this:\n",
        "\n",
        "```\n",
        "print(d[\"foo\"])\n",
        "```\n",
        "\n",
        "And test for keys like this:\n",
        "\n",
        "```\n",
        "if \"foo\" in d:\n",
        "    print(\"foo is a key in d!\")\n",
        "```\n",
        "\n",
        "If you want to test for a value, you have search all the keys.  No quick shortcut."
      ]
    },
    {
      "cell_type": "markdown",
      "metadata": {
        "id": "ZlP0IOK7GxeO"
      },
      "source": [
        ""
      ]
    },
    {
      "cell_type": "code",
      "metadata": {
        "colab": {
          "base_uri": "https://localhost:8080/"
        },
        "id": "ya-CKCBPC1cP",
        "outputId": "db873b3c-6d73-4171-9773-32e7ea088788"
      },
      "source": [
        "phonebook = {\n",
        "    \"Alice\": 5551212,\n",
        "    \"Bob\": 55512123,\n",
        "    \"Charlie\": 5551214\n",
        "}\n",
        "\n",
        "print(phonebook)\n",
        "\n",
        "print(phonebook[\"Alice\"])\n",
        "\n",
        "phonebook[\"beej\"] = phonebook[\"lisa\"] = 5553490\n",
        "\n",
        "print(phonebook)\n",
        "\n",
        "if \"beej\" in phonebook:\n",
        "    print(f\"Beej's number is {phonebook['beej']}\")"
      ],
      "execution_count": null,
      "outputs": [
        {
          "output_type": "stream",
          "text": [
            "{'Alice': 5551212, 'Bob': 55512123, 'Charlie': 5551214}\n",
            "5551212\n",
            "{'Alice': 5551212, 'Bob': 55512123, 'Charlie': 5551214, 'beej': 5553490, 'lisa': 5553490}\n",
            "Beej's number is 5553490\n"
          ],
          "name": "stdout"
        }
      ]
    },
    {
      "cell_type": "code",
      "metadata": {
        "colab": {
          "base_uri": "https://localhost:8080/"
        },
        "id": "jkXg-_MFIopB",
        "outputId": "44c01ff9-e661-46f8-ef81-ab4b48af9ecf"
      },
      "source": [
        "# Iterating\n",
        "\n",
        "for k in phonebook:\n",
        "    print(f\"{k}'s number is {phonebook[k]}\")"
      ],
      "execution_count": null,
      "outputs": [
        {
          "output_type": "stream",
          "text": [
            "Alice's number is 5551212\n",
            "Bob's number is 55512123\n",
            "Charlie's number is 5551214\n",
            "beej's number is 5553490\n"
          ],
          "name": "stdout"
        }
      ]
    },
    {
      "cell_type": "code",
      "metadata": {
        "colab": {
          "base_uri": "https://localhost:8080/"
        },
        "id": "Oxe60VpkI9sr",
        "outputId": "6f13e8da-59c3-4741-848f-2580655317f4"
      },
      "source": [
        "# Iterating with .items() (analogous to enumerate())\n",
        "\n",
        "for k, v in phonebook.items():\n",
        "    print(f\"{k}'s number is {v}\")\n"
      ],
      "execution_count": null,
      "outputs": [
        {
          "output_type": "stream",
          "text": [
            "Alice's number is 5551212\n",
            "Bob's number is 55512123\n",
            "Charlie's number is 5551214\n",
            "beej's number is 5553490\n"
          ],
          "name": "stdout"
        }
      ]
    },
    {
      "cell_type": "code",
      "metadata": {
        "colab": {
          "base_uri": "https://localhost:8080/"
        },
        "id": "HtKGycFdKBax",
        "outputId": "508877ad-b5ba-4b6a-af52-15c376fe0165"
      },
      "source": [
        "# Search by value\n",
        "\n",
        "def find_key_by_value(value):\n",
        "    for k, v in phonebook.items():\n",
        "        if v == value:\n",
        "            return k\n",
        "\n",
        "    # If we got here, we didn't find the value\n",
        "    return None\n",
        "\n",
        "print(find_key_by_value(5553490))\n",
        "print(find_key_by_value(5559999))"
      ],
      "execution_count": null,
      "outputs": [
        {
          "output_type": "stream",
          "text": [
            "beej\n",
            "None\n"
          ],
          "name": "stdout"
        }
      ]
    },
    {
      "cell_type": "code",
      "metadata": {
        "colab": {
          "base_uri": "https://localhost:8080/"
        },
        "id": "PX82LxjvLr1T",
        "outputId": "fe9558f2-2d1e-4b5f-8d80-981c40f0bd78"
      },
      "source": [
        "# Find duplicate values\n",
        "values_seen = {}\n",
        "duplicates = []\n",
        "\n",
        "for k, v in phonebook.items():\n",
        "    if v in values_seen:\n",
        "        duplicates.append(v)\n",
        "    else:\n",
        "        values_seen[v] = True\n",
        "\n",
        "print(values_seen)\n",
        "print(duplicates)\n",
        "\n"
      ],
      "execution_count": null,
      "outputs": [
        {
          "output_type": "stream",
          "text": [
            "{5551212: True, 55512123: True, 5551214: True, 5553490: True}\n",
            "[5553490]\n"
          ],
          "name": "stdout"
        }
      ]
    },
    {
      "cell_type": "code",
      "metadata": {
        "colab": {
          "base_uri": "https://localhost:8080/"
        },
        "id": "htwdPd1vNeAn",
        "outputId": "bcef9563-e54e-4493-e6fe-fd9f74aa507a"
      },
      "source": [
        "# Find duplicate values by counting\n",
        "\n",
        "value_count = {}\n",
        "duplicates = []\n",
        "\n",
        "for v in phonebook.values():\n",
        "    if v not in value_count:  # Create key if nonexistent\n",
        "        value_count[v] = 0\n",
        "\n",
        "    value_count[v] += 1\n",
        "\n",
        "for number, count in value_count.items():\n",
        "    if count > 1:\n",
        "        duplicates.append(number)\n",
        "\n",
        "print(duplicates)"
      ],
      "execution_count": null,
      "outputs": [
        {
          "output_type": "stream",
          "text": [
            "[5553490]\n"
          ],
          "name": "stdout"
        }
      ]
    },
    {
      "cell_type": "code",
      "metadata": {
        "colab": {
          "base_uri": "https://localhost:8080/"
        },
        "id": "FB6mj1xjJmS1",
        "outputId": "a6e2e13c-af09-470c-cfd0-a4366c9a7f1f"
      },
      "source": [
        "# A couple ways to delete items from the phonebook\n",
        "del phonebook[\"beej\"]\n",
        "print(phonebook)\n",
        "\n",
        "phonebook.pop('Charlie')\n",
        "print(phonebook)"
      ],
      "execution_count": null,
      "outputs": [
        {
          "output_type": "stream",
          "text": [
            "{'Alice': 5551212, 'Bob': 55512123, 'Charlie': 5551214}\n",
            "{'Alice': 5551212, 'Bob': 55512123}\n"
          ],
          "name": "stdout"
        }
      ]
    },
    {
      "cell_type": "code",
      "metadata": {
        "colab": {
          "base_uri": "https://localhost:8080/"
        },
        "id": "kqB3fWNQO642",
        "outputId": "3f837324-2f13-46a9-9bc7-20723f324dbf"
      },
      "source": [
        "# Dictionary comprehension, analogous to list comprehensions\n",
        "\n",
        "s = [(\"a\", 2), (\"b\", 3)]\n",
        "\n",
        "d = {k:v for k, v in s}\n",
        "\n",
        "print(d)"
      ],
      "execution_count": null,
      "outputs": [
        {
          "output_type": "stream",
          "text": [
            "{'a': 2, 'b': 3}\n"
          ],
          "name": "stdout"
        }
      ]
    },
    {
      "cell_type": "markdown",
      "metadata": {
        "id": "NP2Ex2wXRUzw"
      },
      "source": [
        "# Mutability and Immutability\n",
        "\n",
        "\"Is this an object I can change?\"\n",
        "\n",
        "Immutable objects:\n",
        "\n",
        "* Strings\n",
        "* Tuples (lists with parentheses)\n",
        "* Integers\n",
        "* Floating point numbers\n",
        "\n",
        "Mutable Objects:\n",
        "\n",
        "* Lists\n",
        "* Dictionaries\n",
        "* Objects that you instantiate\n",
        "* Set (not yet discussed, but it's like a dict, except keys only)\n",
        "\n",
        "If you pass a mutable object to a function, the function can change that object, and you'll see those changes back out at the caller."
      ]
    },
    {
      "cell_type": "code",
      "metadata": {
        "colab": {
          "base_uri": "https://localhost:8080/"
        },
        "id": "zRd-XTiQRcCu",
        "outputId": "6ef082d2-e642-4a8b-e2e3-011fbfbe5a1b"
      },
      "source": [
        "s = \"Hello!\"\n",
        "\n",
        "print(s[2])\n",
        "#s[2] = \"x\"  # Can't change this--strings are immutable\n",
        "\n",
        "\n",
        "a = [1,2,3,4]\n",
        "\n",
        "print(a[2])\n",
        "a[2] = 99    # No problem--lists are mutable\n",
        "\n",
        "print(a)"
      ],
      "execution_count": null,
      "outputs": [
        {
          "output_type": "stream",
          "text": [
            "l\n",
            "3\n",
            "[1, 2, 99, 4]\n"
          ],
          "name": "stdout"
        }
      ]
    },
    {
      "cell_type": "code",
      "metadata": {
        "colab": {
          "base_uri": "https://localhost:8080/"
        },
        "id": "2ZNey68NS6lv",
        "outputId": "052e6037-1268-4d1c-b808-2d0de23b16db"
      },
      "source": [
        "def foo(x):  # x = a\n",
        "    # Since integers are immutable, this makes a new integer\n",
        "    x += 1   # x = x + 1\n",
        "    return\n",
        "\n",
        "a = 37\n",
        "foo(a)\n",
        "\n",
        "print(a)  # 37? 38? 37."
      ],
      "execution_count": null,
      "outputs": [
        {
          "output_type": "stream",
          "text": [
            "37\n"
          ],
          "name": "stdout"
        }
      ]
    },
    {
      "cell_type": "code",
      "metadata": {
        "colab": {
          "base_uri": "https://localhost:8080/"
        },
        "id": "GtNbI97oUea0",
        "outputId": "60207ff2-fc87-47ea-9364-ba4fc9e9059c"
      },
      "source": [
        "def foo(x):   # x = a\n",
        "    # Since the list is mutable, this changes the existing list\n",
        "    x.append(99)\n",
        "    return\n",
        "\n",
        "a = [0,1,2,3,4]  # Lists are mutable\n",
        "foo(a)\n",
        "\n",
        "print(a)  # [0,1,2,3,4]?  [0,1,2,3,4,99]?\n",
        "\n"
      ],
      "execution_count": null,
      "outputs": [
        {
          "output_type": "stream",
          "text": [
            "[0, 1, 2, 3, 4, 99]\n"
          ],
          "name": "stdout"
        }
      ]
    },
    {
      "cell_type": "code",
      "metadata": {
        "colab": {
          "base_uri": "https://localhost:8080/"
        },
        "id": "YLUje3y6WMg7",
        "outputId": "966d48e6-a4a7-4493-de33-4f4a041a61ff"
      },
      "source": [
        "# Example with a changing list\n",
        "\n",
        "a = [0,11,22,33,44]\n",
        "\n",
        "for i, v in enumerate(a):\n",
        "    if v == 22:\n",
        "        #v *= 100\n",
        "        a[i] *= 100\n",
        "\n",
        "print(a)  # [0,11,2200,33,44]\n",
        "\n"
      ],
      "execution_count": null,
      "outputs": [
        {
          "output_type": "stream",
          "text": [
            "[0, 11, 2200, 33, 44]\n"
          ],
          "name": "stdout"
        }
      ]
    },
    {
      "cell_type": "code",
      "metadata": {
        "colab": {
          "base_uri": "https://localhost:8080/"
        },
        "id": "bsB25HlaYg60",
        "outputId": "f9cd3b39-f787-423d-c378-de06f5407f81"
      },
      "source": [
        "a = [0,11,22,33,44]\n",
        "\n",
        "for t in enumerate(a):\n",
        "    i, v = t\n",
        "    print(t, i, v)\n",
        "\n",
        "    i = 99\n",
        "    print(t)\n"
      ],
      "execution_count": null,
      "outputs": [
        {
          "output_type": "stream",
          "text": [
            "(0, 0) 0 0\n",
            "(0, 0)\n",
            "(1, 11) 1 11\n",
            "(1, 11)\n",
            "(2, 22) 2 22\n",
            "(2, 22)\n",
            "(3, 33) 3 33\n",
            "(3, 33)\n",
            "(4, 44) 4 44\n",
            "(4, 44)\n"
          ],
          "name": "stdout"
        }
      ]
    },
    {
      "cell_type": "markdown",
      "metadata": {
        "id": "47BSXzFTblHm"
      },
      "source": [
        "# Intro to Time Complexity and Big O Notation\n",
        "\n",
        "Answering this question: how bad does performance get as the amount of data to process increases?\n",
        "\n",
        "Big-O measures how well an algorithm _scales_.\n",
        "\n",
        "It's not how fast the algorithm is. It's not how much wall clock time it takes."
      ]
    },
    {
      "cell_type": "code",
      "metadata": {
        "colab": {
          "base_uri": "https://localhost:8080/"
        },
        "id": "F07cfU4ocnTG",
        "outputId": "bfac0f75-de33-4f8d-f471-2b11734d08c5"
      },
      "source": [
        "# Linear search\n",
        "#\n",
        "# If we double the amount of data, it takes twice as long\n",
        "# If we triple it, takes 3x as long\n",
        "#\n",
        "# \"Linear time\"--time taken is proportional to the amount of data\n",
        "#\n",
        "# In Big-O notation: O(n) over the size of the input array\n",
        "\n",
        "count = 0\n",
        "\n",
        "def value_in_list(x, target):\n",
        "    global count\n",
        "\n",
        "    for v in x:\n",
        "        if v == target:\n",
        "            return True\n",
        "        count += 1\n",
        "    \n",
        "    return False\n",
        "\n",
        "a = [1,2,3,4]\n",
        "\n",
        "#print(value_in_list(a, 4))\n",
        "print(value_in_list(a, 99))\n",
        "print(count)"
      ],
      "execution_count": null,
      "outputs": [
        {
          "output_type": "stream",
          "text": [
            "False\n",
            "4\n"
          ],
          "name": "stdout"
        }
      ]
    },
    {
      "cell_type": "code",
      "metadata": {
        "colab": {
          "base_uri": "https://localhost:8080/"
        },
        "id": "2eyexgTfdxdo",
        "outputId": "627d912d-bcc4-4a82-8c44-f40640b2a68f"
      },
      "source": [
        "# Constant time\n",
        "#\n",
        "# Time/number of operations is not dependent on the size of the input\n",
        "#\n",
        "# O(1)  (\"Order one\") over the size of the input array\n",
        "\n",
        "count = 0\n",
        "\n",
        "def foo(x):\n",
        "    global count\n",
        "\n",
        "    t = 0\n",
        "    for i in range(100000):\n",
        "        t += i\n",
        "        count += 1\n",
        "\n",
        "    return t\n",
        "\n",
        "a = [1,2,3,4] * 1000\n",
        "\n",
        "foo(a)\n",
        "\n",
        "print(count)"
      ],
      "execution_count": null,
      "outputs": [
        {
          "output_type": "stream",
          "text": [
            "100000\n"
          ],
          "name": "stdout"
        }
      ]
    }
  ]
}